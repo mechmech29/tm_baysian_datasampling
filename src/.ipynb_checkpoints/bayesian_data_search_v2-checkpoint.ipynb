{
 "cells": [
  {
   "cell_type": "markdown",
   "id": "a8586da5-701a-4fa4-a5af-70f80ef6e8d9",
   "metadata": {},
   "source": [
    "# ベイズ最適化によって目標位置との誤差を最小化する圧力データ探索問題"
   ]
  },
  {
   "cell_type": "code",
   "execution_count": 1,
   "id": "d047c685-438f-4820-bc0e-c7e66f63ac56",
   "metadata": {
    "tags": []
   },
   "outputs": [],
   "source": [
    "%matplotlib inline"
   ]
  },
  {
   "cell_type": "code",
   "execution_count": 3,
   "id": "57cdebae-6178-474e-8f07-5db270cbc19b",
   "metadata": {
    "tags": []
   },
   "outputs": [],
   "source": [
    "import numpy as np\n",
    "import scipy as sp\n",
    "import matplotlib.pyplot as plt\n",
    "import pandas as pd\n",
    "from sklearn.gaussian_process import GaussianProcessRegressor\n",
    "from sklearn.gaussian_process.kernels import RBF, ConstantKernel as C"
   ]
  },
  {
   "cell_type": "markdown",
   "id": "5e5136cc-8d7d-426c-a586-b30cd86cde81",
   "metadata": {
    "tags": []
   },
   "source": [
    "## 圧力-姿勢データの読み込み"
   ]
  },
  {
   "cell_type": "code",
   "execution_count": null,
   "id": "550eadef-5dab-4e01-bbc4-02a3f522cf3f",
   "metadata": {},
   "outputs": [],
   "source": [
    "# load pressure and posture data from Adams PC\n",
    "X_data = \n",
    "Y_data = \n",
    "X_train, X_test = \n",
    "Y_train, Y_test = "
   ]
  },
  {
   "cell_type": "markdown",
   "id": "350adb03-0e55-4ffd-8942-a4a341e0ffd7",
   "metadata": {
    "tags": []
   },
   "source": [
    "## 順運動学モデルの作成"
   ]
  },
  {
   "cell_type": "code",
   "execution_count": 6,
   "id": "280be032-5931-409f-ad51-bac3777c473e",
   "metadata": {},
   "outputs": [],
   "source": [
    "def kernel(x, xd, param=[1, 0.4, 0.3]):\n",
    "    return param[0]*np.exp(-(x - xd).T @ (x - xd)/param[1]) + param[2]*(x == xd)\n",
    "\n",
    "def gram_mtx(X, param=[1, 0.4, 0.3]):\n",
    "    N_data = len(X)\n",
    "    K = np.zeros((N_data, N_data))\n",
    "    for i,j in product(range(N_data), range(N_data)):\n",
    "        K[i, j] = kernel(X[i], X[j], param)\n",
    "        \n",
    "    return K\n",
    "\n",
    "# kernel function created by a library\n",
    "#kernelstd = 10\n",
    "#lib_kernel = C(1.0, (1e-3, 1e3)) * RBF(kernelstd, (1e-5, 1e5j))\n",
    "\n",
    "# gaussian process model of the forward kinematics\n",
    "#gp_fwd_kine = GaussianProcessRegressor(kernel=kernel, alpha=1e-10, optimizer='fmin_l_bfgs_b', n_restarts_optimizer=10)\n",
    "\n",
    "# acquisition function\n",
    "def UCB(x, f=gp_fwd_kine, beta=2.0):\n",
    "    mean, std = f(x)\n",
    "    return mean + beta*std\n",
    "\n",
    "def EI(x, f=gp_fwd_kine):\n",
    "    pass"
   ]
  },
  {
   "cell_type": "markdown",
   "id": "5a3ea1b9-af78-4e2e-bbd8-eb73eead2b99",
   "metadata": {
    "tags": []
   },
   "source": [
    "## 最適化"
   ]
  },
  {
   "cell_type": "code",
   "execution_count": 7,
   "id": "466d84e3-fd29-49ee-a00c-bd4274a44ee2",
   "metadata": {},
   "outputs": [
    {
     "ename": "NameError",
     "evalue": "name 'X_train' is not defined",
     "output_type": "error",
     "traceback": [
      "\u001b[0;31m---------------------------------------------------------------------------\u001b[0m",
      "\u001b[0;31mNameError\u001b[0m                                 Traceback (most recent call last)",
      "Cell \u001b[0;32mIn[7], line 2\u001b[0m\n\u001b[1;32m      1\u001b[0m \u001b[38;5;66;03m# optimize the gp model\u001b[39;00m\n\u001b[0;32m----> 2\u001b[0m gp_fwd_kine\u001b[38;5;241m.\u001b[39mfit(\u001b[43mX_train\u001b[49m, Y_train)\n",
      "\u001b[0;31mNameError\u001b[0m: name 'X_train' is not defined"
     ]
    }
   ],
   "source": [
    "# optimize the gp model\n",
    "#gp_fwd_kine.fit(X_train, Y_train)"
   ]
  },
  {
   "cell_type": "markdown",
   "id": "684f06e8-c044-491a-9b79-e43ef7859404",
   "metadata": {},
   "source": [
    "## クロスエントロピー法で獲得関数UCBを最大化するデータ点を取得する"
   ]
  },
  {
   "cell_type": "code",
   "execution_count": 8,
   "id": "bd83dd23-3335-436c-9260-b526469a3a52",
   "metadata": {},
   "outputs": [],
   "source": [
    "def Cem(objfunc, y_data, x_min=0, x_max=10, dim=1, iterMax=8, sampleNum=600, eliteNum=300):\n",
    "    mean = None\n",
    "    std = None\n",
    "    sampleSet = None\n",
    "    valueSet = None\n",
    "\n",
    "    for i in range(iterMax):\n",
    "        # 探索を始める範囲をx_min, x_maxで決める\n",
    "        if i==0:\n",
    "            sampleSet_i = np.random.uniform(x_min, x_max, sampleNum)\n",
    "            #sampleSet_i = np.clip(sampleSet_i, x_min, x_max)  # なくても同じ？\n",
    "        else:\n",
    "            sampleSet_i = np.random.normal(loc=mean, scale=std, size=sampleNum)\n",
    "            sampleSet_i = np.clip(sampleSet_i, x_min, x_max)\n",
    "\n",
    "        # 得られたサンプルからエリートを選出する\n",
    "        sampleSet = sampleSet_i.reshape((sampleNum, -1))\n",
    "        #print(sampleSet.shape)\n",
    "        valueSet = objfunc(sampleSet)\n",
    "        #print(valueSet.shape)\n",
    "        \n",
    "        value_sort = np.sort(valueSet, axis=None)\n",
    "        data_num = sampleSet.shape[0]\n",
    "        v_cut = value_sort[data_num-eliteNum-1]\n",
    "        #print(valueSet_elite.shape)\n",
    "        elite_idx = (valueSet.flatten() > v_cut)\n",
    "        #print(elite_idx)\n",
    "        #print(sampleSet.shape)\n",
    "        #print(elite_idx.shape)\n",
    "        valueSet_elite = valueSet[elite_idx]\n",
    "        #print(valueSet_elite.shape)\n",
    "        sampleSet_elite = sampleSet[elite_idx,:]\n",
    "\n",
    "        mean = np.mean(sampleSet_elite)\n",
    "        std = np.std(sampleSet_elite)\n",
    "        print(mean)\n",
    "\n",
    "        # save list of mean and std\n",
    "        sampleSet_list = list(sampleSet_elite)\n",
    "        valueSet_list = list(valueSet_elite)\n",
    "    \n",
    "    return np.clip(mean, x_min, x_max)"
   ]
  },
  {
   "cell_type": "code",
   "execution_count": 9,
   "id": "68203be7-ba52-4fc9-8ec8-2685d752fbde",
   "metadata": {
    "tags": []
   },
   "outputs": [
    {
     "ename": "NameError",
     "evalue": "name 'Y_train' is not defined",
     "output_type": "error",
     "traceback": [
      "\u001b[0;31m---------------------------------------------------------------------------\u001b[0m",
      "\u001b[0;31mNameError\u001b[0m                                 Traceback (most recent call last)",
      "Cell \u001b[0;32mIn[9], line 2\u001b[0m\n\u001b[1;32m      1\u001b[0m \u001b[38;5;66;03m# クロスエントロピー法で獲得関数UCBが最大になるデータ点を検索\u001b[39;00m\n\u001b[0;32m----> 2\u001b[0m cem_mean \u001b[38;5;241m=\u001b[39m Cem(UCB, y_data\u001b[38;5;241m=\u001b[39m\u001b[43mY_train\u001b[49m, dim\u001b[38;5;241m=\u001b[39m\u001b[38;5;28mlen\u001b[39m(Y_train), x_min\u001b[38;5;241m=\u001b[39m\u001b[38;5;241m0\u001b[39m, x_max\u001b[38;5;241m=\u001b[39m\u001b[38;5;241m1\u001b[39m)\n\u001b[1;32m      3\u001b[0m \u001b[38;5;28mprint\u001b[39m(cem_mean)\n\u001b[1;32m      5\u001b[0m X_train \u001b[38;5;241m=\u001b[39m np\u001b[38;5;241m.\u001b[39mappend(X_train, cem_mean)\n",
      "\u001b[0;31mNameError\u001b[0m: name 'Y_train' is not defined"
     ]
    }
   ],
   "source": [
    "# クロスエントロピー法で獲得関数UCBが最大になるデータ点を検索\n",
    "cem_mean = Cem(UCB, y_data=Y_train, dim=len(Y_train), x_min=0, x_max=1)\n",
    "print(cem_mean)\n",
    "\n",
    "X_train = np.append(X_train, cem_mean)\n",
    "#X_train = np.atleast_2d(X_train).T\n",
    "\n",
    "Y_train = np.append(Y_train, gp_fwd_kine.predict(cem_mean))\n",
    "print(\"X_train size : \", len(X_train))\n",
    "print(\"Y_train size : \", len(Y_train))\n",
    "\n",
    "# train again\n",
    "gp_fwd_kine(X_train, Y_train)"
   ]
  },
  {
   "cell_type": "code",
   "execution_count": null,
   "id": "13fb0be4-30f6-480e-84b2-69fe77af3bc0",
   "metadata": {},
   "outputs": [],
   "source": [
    "def init():\n",
    "    # gaussian process model of the forward kinematics\n",
    "    # initialize\n",
    "    gp_fwd_kine = GaussianProcessRegressor(kernel=kernel, alpha=1e-10, optimizer='fmin_l_bfgs_b', n_restarts_optimizer=10)\n",
    "\n",
    "def callback():\n",
    "#while(True):\n",
    "    print(\"Sampling idx\" : len(X_train))\n",
    "    # train\n",
    "    gp_fwd_kine.fit(X_train, Y_train)\n",
    "    \n",
    "    # クロスエントロピー法で獲得関数UCBが最大になるデータ点を検索\n",
    "    cem_mean = Cem(UCB, y_data=Y_train, dim=len(Y_train), x_min=0, x_max=1)\n",
    "    print(cem_mean)\n",
    "\n",
    "    # update training data\n",
    "    X_train = np.append(X_train, cem_mean)\n",
    "    #X_train = np.atleast_2d(X_train).T\n",
    "    Y_train = np.append(Y_train, gp_fwd_kine.predict(cem_mean))\n",
    "    #print(\"X_train size : \", len(X_train))\n",
    "    #print(\"Y_train size : \", len(Y_train))"
   ]
  }
 ],
 "metadata": {
  "kernelspec": {
   "display_name": "Python 3 (ipykernel)",
   "language": "python",
   "name": "python3"
  },
  "language_info": {
   "codemirror_mode": {
    "name": "ipython",
    "version": 3
   },
   "file_extension": ".py",
   "mimetype": "text/x-python",
   "name": "python",
   "nbconvert_exporter": "python",
   "pygments_lexer": "ipython3",
   "version": "3.10.12"
  }
 },
 "nbformat": 4,
 "nbformat_minor": 5
}

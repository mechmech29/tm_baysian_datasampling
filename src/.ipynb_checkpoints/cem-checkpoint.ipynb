{
  "nbformat": 4,
  "nbformat_minor": 0,
  "metadata": {
    "colab": {
      "provenance": []
    },
    "kernelspec": {
      "name": "python3",
      "display_name": "Python 3"
    },
    "language_info": {
      "name": "python"
    }
  },
  "cells": [
    {
      "cell_type": "markdown",
      "source": [
        "## Cross entropy法の練習\n",
        "\n",
        "このプログラムでは，関数を最大化する点を見つける方法として，cross entropy法を練習します。"
      ],
      "metadata": {
        "id": "mtYDm7x17h08"
      }
    },
    {
      "cell_type": "code",
      "source": [
        "import numpy as np\n",
        "\n",
        "def Cem(objfunc, x_min=0, x_max=2, dim=1, iterMax=10, sampleNum=700, eliteNum=200):\n",
        "\n",
        "    mean = None\n",
        "    std = None\n",
        "    sampleSet = None\n",
        "    valueSet = None\n",
        "\n",
        "    for i in range(iterMax):\n",
        "\n",
        "        if i == 0:\n",
        "            sampleSet_i = np.random.uniform(x_min, x_max, (sampleNum, dim))\n",
        "        else:\n",
        "            sampleSet_i = np.random.normal(loc=mean, scale=std, size=sampleNum)\n",
        "\n",
        "        sampleSet = np.reshape(sampleSet_i, (sampleNum, -1))\n",
        "        valueSet = objfunc(sampleSet)\n",
        "\n",
        "        value_sort = np.sort(valueSet, axis=None)\n",
        "        # print('value_sort', value_sort)\n",
        "        data_num = sampleSet.shape[0]\n",
        "        v_cut = value_sort[data_num - eliteNum -1]\n",
        "\n",
        "        # print('sampleSet', sampleSet.shape)\n",
        "        # print('valueSet', valueSet.shape)\n",
        "        print('v_cut', v_cut)\n",
        "        idx = (valueSet.flatten() > v_cut)\n",
        "        valueSetCut = valueSet[idx]\n",
        "        sampleSetCut = sampleSet[idx, :]\n",
        "\n",
        "        # print('sampleSetCut.shape', sampleSetCut.shape)\n",
        "        mean = np.mean(sampleSetCut)\n",
        "        std = np.std(sampleSetCut)\n",
        "\n",
        "        sampleSetList = list(sampleSetCut)\n",
        "        valueSetList = list(valueSetCut)\n",
        "\n",
        "\n",
        "    return mean"
      ],
      "metadata": {
        "id": "KVrI9U8O7kqJ"
      },
      "execution_count": 24,
      "outputs": []
    },
    {
      "cell_type": "markdown",
      "source": [
        "ここで，テスト用の関数として $f(x) = x \\sin(x)$を使います。"
      ],
      "metadata": {
        "id": "2QH5xSQL9ycN"
      }
    },
    {
      "cell_type": "code",
      "source": [
        "def test_func(x):\n",
        "    \n",
        "    return x * np.sin(x)"
      ],
      "metadata": {
        "id": "Mtgsir1L96hb"
      },
      "execution_count": 11,
      "outputs": []
    },
    {
      "cell_type": "markdown",
      "source": [
        "このテスト関数はグラフに書いてみると以下のようになります。"
      ],
      "metadata": {
        "id": "hioOSI4Q-Y1D"
      }
    },
    {
      "cell_type": "code",
      "source": [
        "X = np.linspace(start=0, stop=10, num=1_000).reshape(-1, 1)\n",
        "y = test_func(X)"
      ],
      "metadata": {
        "id": "qY1aBTIw-zsi"
      },
      "execution_count": 12,
      "outputs": []
    },
    {
      "cell_type": "code",
      "source": [
        "import matplotlib.pyplot as plt\n",
        "\n",
        "plt.plot(X, y, label=r\"$f(x) = x \\sin(x)$\")\n",
        "plt.legend()\n",
        "plt.xlabel(\"$x$\")\n",
        "plt.ylabel(\"$f(x)$\")\n",
        "_ = plt.title(\"True generative process\")"
      ],
      "metadata": {
        "colab": {
          "base_uri": "https://localhost:8080/",
          "height": 295
        },
        "id": "WJxBVvoN-hGR",
        "outputId": "25571ed2-60ba-46d2-a4a2-d95141f4f53f"
      },
      "execution_count": 28,
      "outputs": [
        {
          "output_type": "display_data",
          "data": {
            "text/plain": [
              "<Figure size 432x288 with 1 Axes>"
            ],
            "image/png": "[encoded data removed]"
          },
          "metadata": {
            "needs_background": "light"
          }
        }
      ]
    },
    {
      "cell_type": "markdown",
      "source": [
        "このテスト関数を最大化するxをcross entropy法を用いて発見します。"
      ],
      "metadata": {
        "id": "Nhy78F4b_RHP"
      }
    },
    {
      "cell_type": "code",
      "source": [
        "dim = 1\n",
        "\n",
        "x_max = 10\n",
        "x_min = 0\n",
        "y_max = -10\n",
        "y_min = 10\n",
        "\n",
        "N = 20000\n",
        "\n",
        "mean = Cem(test_func, dim=dim, x_max=x_max, x_min=x_min)\n",
        "\n",
        "print('mean', mean)"
      ],
      "metadata": {
        "colab": {
          "base_uri": "https://localhost:8080/"
        },
        "id": "bTBf8m-N_g_i",
        "outputId": "71bda9a3-024e-40f6-e3d8-9116b526b9d0"
      },
      "execution_count": 25,
      "outputs": [
        {
          "output_type": "stream",
          "name": "stdout",
          "text": [
            "v_cut 2.30224924321115\n",
            "v_cut 7.660201741024833\n",
            "v_cut 7.904547726382105\n",
            "v_cut 7.916164719393256\n",
            "v_cut 7.916700345640389\n",
            "v_cut 7.916726148213884\n",
            "v_cut 7.916727303124354\n",
            "v_cut 7.916727368491508\n",
            "v_cut 7.916727371456639\n",
            "v_cut 7.916727371581102\n",
            "mean 7.978665622227547\n"
          ]
        }
      ]
    },
    {
      "cell_type": "code",
      "source": [
        "import matplotlib.pyplot as plt\n",
        "\n",
        "plt.plot(X, y, label=r\"$f(x) = x \\sin(x)$\")\n",
        "plt.legend()\n",
        "plt.xlabel(\"$x$\")\n",
        "plt.ylabel(\"$f(x)$\")\n",
        "_ = plt.title(\"True generative process\")\n",
        "\n",
        "plt.vlines(mean, -6, 9, color='r', linestyles='dotted')"
      ],
      "metadata": {
        "colab": {
          "base_uri": "https://localhost:8080/",
          "height": 313
        },
        "id": "K1-4-3VMU-NW",
        "outputId": "3faae34a-70f0-4ec1-cbee-d68b388e2eb7"
      },
      "execution_count": 29,
      "outputs": [
        {
          "output_type": "execute_result",
          "data": {
            "text/plain": [
              "<matplotlib.collections.LineCollection at 0x7f18780d2c10>"
            ]
          },
          "metadata": {},
          "execution_count": 29
        },
        {
          "output_type": "display_data",
          "data": {
            "text/plain": [
              "<Figure size 432x288 with 1 Axes>"
            ],
            "image/png": "[encoded data removed]"
          },
          "metadata": {
            "needs_background": "light"
          }
        }
      ]
    }
  ]
}
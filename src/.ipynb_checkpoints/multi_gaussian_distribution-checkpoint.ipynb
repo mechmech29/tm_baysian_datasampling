{
 "cells": [
  {
   "cell_type": "code",
   "execution_count": 10,
   "id": "8a5296a7-cfce-4bc3-a7bb-0e05cbfa0eb3",
   "metadata": {},
   "outputs": [],
   "source": [
    "import numpy as np\n",
    "import matplotlib.pyplot as plt\n",
    "from mpl_toolkits.mplot3d import axes3d\n",
    "from matplotlib import cm"
   ]
  },
  {
   "cell_type": "code",
   "execution_count": 15,
   "id": "d1980fe3-678c-4e86-833a-b01e0134672d",
   "metadata": {},
   "outputs": [
    {
     "data": {
      "text/plain": [
       "'\\nx = np.linspace(-9,9,100)\\nsigma = 3\\nmean = 4\\nf = np.exp(-(x-mean)**2 / (2*sigma**2))\\nplt.plot(x, f)\\n'"
      ]
     },
     "execution_count": 15,
     "metadata": {},
     "output_type": "execute_result"
    }
   ],
   "source": [
    "'''\n",
    "x = np.linspace(-9,9,100)\n",
    "sigma = 3\n",
    "mean = 4\n",
    "f = np.exp(-(x-mean)**2 / (2*sigma**2))\n",
    "plt.plot(x, f)\n",
    "'''\n",
    "\n",
    "\n",
    "#def f(x, sigma):\n",
    "#    f = (1/np.sqrt(2*np.pi*sigma**2)) * np.exp(-("
   ]
  },
  {
   "cell_type": "code",
   "execution_count": null,
   "id": "0d081826-c324-4f33-ba98-3384dcb58a78",
   "metadata": {},
   "outputs": [],
   "source": []
  },
  {
   "cell_type": "code",
   "execution_count": 22,
   "id": "0fae3b14-d00f-4b3f-af0d-87cda264c6ea",
   "metadata": {},
   "outputs": [
    {
     "name": "stdout",
     "output_type": "stream",
     "text": [
      "(80, 80)\n",
      "(80, 80)\n",
      "(6400, 2)\n"
     ]
    }
   ],
   "source": [
    "x = y = np.arange(-20, 20, 0.5)\n",
    "X, Y = np.meshgrid(x,y)\n",
    "z = np.c_[X.ravel(), Y.ravel()]\n",
    "print(X.shape)\n",
    "print(Y.shape)\n",
    "print(z.shape)"
   ]
  },
  {
   "cell_type": "code",
   "execution_count": 24,
   "id": "ad7aa93a-a15e-43b6-9b44-0bf49fa372ed",
   "metadata": {},
   "outputs": [],
   "source": [
    "def gaussian(x, mu, sigma):\n",
    "    # 分散共分散行列の行列式\n",
    "    det = np.linalg.det(sigma)\n",
    "    print(det)\n",
    "    # 分散共分散行列の逆行列\n",
    "    inv = np.linalg.inv(sigma)\n",
    "    n = x.ndim\n",
    "    print(inv)\n",
    "    #return np.exp(-np.diag((x-mu)@inv@\n",
    "    #return "
   ]
  },
  {
   "cell_type": "code",
   "execution_count": 26,
   "id": "59cf19be-d24c-4659-a804-cdca6f248559",
   "metadata": {},
   "outputs": [
    {
     "name": "stdout",
     "output_type": "stream",
     "text": [
      "1.0\n",
      "[[1. 0.]\n",
      " [0. 1.]]\n"
     ]
    }
   ],
   "source": [
    "mu = np.array([0,0])\n",
    "sigma = np.array([[1,0],[0,1]])\n",
    "Z = gaussian(z, mu, sigma)"
   ]
  },
  {
   "cell_type": "code",
   "execution_count": null,
   "id": "be6e38fe-ee8f-43fd-8d3c-7ee02b0d825f",
   "metadata": {},
   "outputs": [],
   "source": []
  }
 ],
 "metadata": {
  "kernelspec": {
   "display_name": "Python 3 (ipykernel)",
   "language": "python",
   "name": "python3"
  },
  "language_info": {
   "codemirror_mode": {
    "name": "ipython",
    "version": 3
   },
   "file_extension": ".py",
   "mimetype": "text/x-python",
   "name": "python",
   "nbconvert_exporter": "python",
   "pygments_lexer": "ipython3",
   "version": "3.10.6"
  }
 },
 "nbformat": 4,
 "nbformat_minor": 5
}

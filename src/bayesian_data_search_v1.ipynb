{
 "cells": [
  {
   "cell_type": "markdown",
   "id": "a8586da5-701a-4fa4-a5af-70f80ef6e8d9",
   "metadata": {},
   "source": [
    "# ベイズ最適化によって目標位置との誤差を最小化する圧力データ探索問題"
   ]
  },
  {
   "cell_type": "code",
   "execution_count": 5,
   "id": "57cdebae-6178-474e-8f07-5db270cbc19b",
   "metadata": {
    "tags": []
   },
   "outputs": [],
   "source": [
    "import numpy as np\n",
    "import scipy as sp\n",
    "import sklearn as skl\n",
    "import matplotlib.pyplot as plt"
   ]
  },
  {
   "cell_type": "markdown",
   "id": "5e5136cc-8d7d-426c-a586-b30cd86cde81",
   "metadata": {
    "tags": []
   },
   "source": [
    "## 圧力-姿勢データの読み込み"
   ]
  },
  {
   "cell_type": "code",
   "execution_count": null,
   "id": "550eadef-5dab-4e01-bbc4-02a3f522cf3f",
   "metadata": {},
   "outputs": [],
   "source": [
    "# load pressure and posture data from Adams PC\n",
    "X_data = \n",
    "Y_data = \n",
    "X_train, X_test = \n",
    "Y_train, Y_test = "
   ]
  },
  {
   "cell_type": "markdown",
   "id": "350adb03-0e55-4ffd-8942-a4a341e0ffd7",
   "metadata": {
    "tags": []
   },
   "source": [
    "## 目標位置との誤差を表す目的関数\n",
    "\n",
    "Objective function\n",
    "    minimize ||y_target - y(u)||^2\n",
    "    < constraint > : y(u) < err_threshhold\n",
    "    \n",
    "    J = ||y_target - y(u)||^2 + (err_threshhold - y(u))\n",
    "    -> u_optim = argmin_u {J}"
   ]
  },
  {
   "cell_type": "code",
   "execution_count": null,
   "id": "280be032-5931-409f-ad51-bac3777c473e",
   "metadata": {},
   "outputs": [],
   "source": [
    "def objective_func(input40):\n",
    "    J = mse(y_target - y)\n",
    "    return "
   ]
  },
  {
   "cell_type": "markdown",
   "id": "5a3ea1b9-af78-4e2e-bbd8-eb73eead2b99",
   "metadata": {
    "tags": []
   },
   "source": [
    "## 目標圧力入力uを含む目的関数の最小化（ベイズ最適化）\n",
    "    ※初期位置依存"
   ]
  },
  {
   "cell_type": "code",
   "execution_count": null,
   "id": "466d84e3-fd29-49ee-a00c-bd4274a44ee2",
   "metadata": {},
   "outputs": [],
   "source": [
    "\n",
    "optimizer = Bayse()\n",
    "target_press_list = []\n",
    "\n",
    "for i in range():\n",
    "    init_press = hoge_function(i)\n",
    "    \n",
    "    target_press = optimize.optim(objective_func, pressure)\n",
    "    target_press_list.append(target_press)\n",
    "\n",
    "print(taget_press_list)"
   ]
  },
  {
   "cell_type": "markdown",
   "id": "684f06e8-c044-491a-9b79-e43ef7859404",
   "metadata": {},
   "source": [
    "## 同じ目標位置を持つ目標圧力の網羅的調査"
   ]
  },
  {
   "cell_type": "code",
   "execution_count": null,
   "id": "bd83dd23-3335-436c-9260-b526469a3a52",
   "metadata": {},
   "outputs": [],
   "source": []
  }
 ],
 "metadata": {
  "kernelspec": {
   "display_name": "Python 3 (ipykernel)",
   "language": "python",
   "name": "python3"
  },
  "language_info": {
   "codemirror_mode": {
    "name": "ipython",
    "version": 3
   },
   "file_extension": ".py",
   "mimetype": "text/x-python",
   "name": "python",
   "nbconvert_exporter": "python",
   "pygments_lexer": "ipython3",
   "version": "3.10.12"
  }
 },
 "nbformat": 4,
 "nbformat_minor": 5
}

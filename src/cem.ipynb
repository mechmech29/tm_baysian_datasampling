{
 "cells": [
  {
   "cell_type": "markdown",
   "metadata": {
    "id": "mtYDm7x17h08"
   },
   "source": [
    "## Cross entropy法の練習\n",
    "\n",
    "このプログラムでは，関数を最大化する点を見つける方法として，cross entropy法を練習します。"
   ]
  },
  {
   "cell_type": "code",
   "execution_count": 94,
   "metadata": {
    "id": "KVrI9U8O7kqJ"
   },
   "outputs": [],
   "source": [
    "import numpy as np\n",
    "\n",
    "def Cem(objfunc, x_min=0, x_max=2, dim=1, iterMax=10, sampleNum=700, eliteNum=200):\n",
    "\n",
    "    mean = None\n",
    "    std = None\n",
    "    sampleSet = None\n",
    "    valueSet = None\n",
    "\n",
    "    for i in range(iterMax):\n",
    "\n",
    "        if i == 0:\n",
    "            sampleSet_i = np.random.uniform(x_min, x_max, (sampleNum, dim))\n",
    "        else:\n",
    "            sampleSet_i = np.random.normal(loc=mean, scale=std, size=sampleNum)\n",
    "\n",
    "        sampleSet = np.reshape(sampleSet_i, (sampleNum, -1))\n",
    "        # \n",
    "        valueSet = objfunc(sampleSet)\n",
    "\n",
    "        value_sort = np.sort(valueSet, axis=None)\n",
    "        #return 0\n",
    "        # print('value_sort', value_sort)\n",
    "        data_num = sampleSet.shape[0]\n",
    "        v_cut = value_sort[data_num - eliteNum -1]\n",
    "\n",
    "        # print('sampleSet', sampleSet.shape)\n",
    "        # print('valueSet', valueSet.shape)\n",
    "        print('v_cut', v_cut)\n",
    "        idx = (valueSet.flatten() > v_cut)\n",
    "        \n",
    "        # ガウス分布から作られたｘを入力したobjfuncの出力のうち、vcutよりも値が大きい上位のデータ\n",
    "        valueSetCut = valueSet[idx]\n",
    "        # ガウス分布からサンプルされた出力のうち、vcutよりも値が大きい上位のデータ\n",
    "        sampleSetCut = sampleSet[idx, :]\n",
    "    \n",
    "        #if i>599:\n",
    "            #return 0\n",
    "\n",
    "        # print('sampleSetCut.shape', sampleSetCut.shape)\n",
    "        mean = np.mean(sampleSetCut)\n",
    "        std = np.std(sampleSetCut)\n",
    "        print('mean = ', mean)\n",
    "        print('std = ', std)\n",
    "        print('----------------------------')\n",
    "\n",
    "        sampleSetList = list(sampleSetCut)\n",
    "        valueSetList = list(valueSetCut)\n",
    "\n",
    "\n",
    "    return mean"
   ]
  },
  {
   "cell_type": "markdown",
   "metadata": {
    "id": "2QH5xSQL9ycN"
   },
   "source": [
    "ここで，テスト用の関数として $f(x) = x \\sin(x)$を使います。"
   ]
  },
  {
   "cell_type": "code",
   "execution_count": 95,
   "metadata": {
    "id": "Mtgsir1L96hb"
   },
   "outputs": [],
   "source": [
    "def test_func(x):\n",
    "    \n",
    "    return x * np.sin(x)"
   ]
  },
  {
   "cell_type": "markdown",
   "metadata": {
    "id": "hioOSI4Q-Y1D"
   },
   "source": [
    "このテスト関数はグラフに書いてみると以下のようになります。"
   ]
  },
  {
   "cell_type": "code",
   "execution_count": 96,
   "metadata": {
    "id": "qY1aBTIw-zsi"
   },
   "outputs": [],
   "source": [
    "X = np.linspace(start=0, stop=10, num=1_000).reshape(-1, 1)\n",
    "y = test_func(X)"
   ]
  },
  {
   "cell_type": "code",
   "execution_count": 97,
   "metadata": {
    "colab": {
     "base_uri": "https://localhost:8080/",
     "height": 295
    },
    "id": "WJxBVvoN-hGR",
    "outputId": "25571ed2-60ba-46d2-a4a2-d95141f4f53f",
    "scrolled": true
   },
   "outputs": [],
   "source": [
    "import matplotlib.pyplot as plt\n",
    "if False:\n",
    "    plt.plot(X, y, label=r\"$f(x) = x \\sin(x)$\")\n",
    "    plt.legend()\n",
    "    plt.xlabel(\"$x$\")\n",
    "    plt.ylabel(\"$f(x)$\")\n",
    "    _ = plt.title(\"True generative process\")"
   ]
  },
  {
   "cell_type": "markdown",
   "metadata": {
    "id": "Nhy78F4b_RHP"
   },
   "source": [
    "このテスト関数を最大化するxをcross entropy法を用いて発見します。"
   ]
  },
  {
   "cell_type": "code",
   "execution_count": 98,
   "metadata": {
    "colab": {
     "base_uri": "https://localhost:8080/"
    },
    "id": "bTBf8m-N_g_i",
    "outputId": "71bda9a3-024e-40f6-e3d8-9116b526b9d0"
   },
   "outputs": [
    {
     "name": "stdout",
     "output_type": "stream",
     "text": [
      "v_cut 1.7966439459282733\n",
      "mean =  7.359484605091921\n",
      "std =  1.881786583160976\n",
      "----------------------------\n",
      "v_cut 5.823574177730905\n",
      "mean =  7.895826194732174\n",
      "std =  0.4097558627565204\n",
      "----------------------------\n",
      "v_cut 7.812498722817221\n",
      "mean =  7.980556518422998\n",
      "std =  0.09535686487358695\n",
      "----------------------------\n",
      "v_cut 7.911101094260016\n",
      "mean =  7.982125995844086\n",
      "std =  0.022189339149492705\n",
      "----------------------------\n",
      "v_cut 7.916479091405965\n",
      "mean =  7.978624081878306\n",
      "std =  0.004498007073854164\n",
      "----------------------------\n",
      "v_cut 7.9167147726799785\n",
      "mean =  7.978564762486813\n",
      "std =  0.000993639182185665\n",
      "----------------------------\n",
      "v_cut 7.916726838102535\n",
      "mean =  7.97869336304733\n",
      "std =  0.00021519952710996365\n",
      "----------------------------\n",
      "v_cut 7.916727346116485\n",
      "mean =  7.978664726228153\n",
      "std =  4.76209875416186e-05\n",
      "----------------------------\n",
      "v_cut 7.916727370280104\n",
      "mean =  7.978665721251559\n",
      "std =  9.635878009831246e-06\n",
      "----------------------------\n",
      "v_cut 7.916727371524877\n",
      "mean =  7.978665790945797\n",
      "std =  2.2371661058177033e-06\n",
      "----------------------------\n",
      "mean 7.978665790945797\n"
     ]
    }
   ],
   "source": [
    "dim = 1\n",
    "\n",
    "x_max = 10\n",
    "x_min = 0\n",
    "y_max = -10\n",
    "y_min = 10\n",
    "\n",
    "N = 20000\n",
    "\n",
    "mean = Cem(test_func, dim=dim, x_max=x_max, x_min=x_min)\n",
    "\n",
    "print('mean', mean)"
   ]
  },
  {
   "cell_type": "code",
   "execution_count": 65,
   "metadata": {
    "colab": {
     "base_uri": "https://localhost:8080/",
     "height": 313
    },
    "id": "K1-4-3VMU-NW",
    "outputId": "3faae34a-70f0-4ec1-cbee-d68b388e2eb7"
   },
   "outputs": [
    {
     "data": {
      "text/plain": [
       "<matplotlib.collections.LineCollection at 0x7eff3288f340>"
      ]
     },
     "execution_count": 65,
     "metadata": {},
     "output_type": "execute_result"
    },
    {
     "data": {
      "image/png": "[encoded data removed]",
      "text/plain": [
       "<Figure size 640x480 with 1 Axes>"
      ]
     },
     "metadata": {},
     "output_type": "display_data"
    }
   ],
   "source": [
    "import matplotlib.pyplot as plt\n",
    "\n",
    "plt.plot(X, y, label=r\"$f(x) = x \\sin(x)$\")\n",
    "plt.legend()\n",
    "plt.xlabel(\"$x$\")\n",
    "plt.ylabel(\"$f(x)$\")\n",
    "_ = plt.title(\"True generative process\")\n",
    "\n",
    "plt.vlines(mean, -6, 9, color='r', linestyles='dotted')"
   ]
  },
  {
   "cell_type": "code",
   "execution_count": null,
   "metadata": {},
   "outputs": [],
   "source": []
  },
  {
   "cell_type": "code",
   "execution_count": null,
   "metadata": {},
   "outputs": [],
   "source": []
  },
  {
   "cell_type": "code",
   "execution_count": null,
   "metadata": {},
   "outputs": [],
   "source": []
  },
  {
   "cell_type": "code",
   "execution_count": null,
   "metadata": {},
   "outputs": [],
   "source": []
  }
 ],
 "metadata": {
  "colab": {
   "provenance": []
  },
  "kernelspec": {
   "display_name": "Python 3 (ipykernel)",
   "language": "python",
   "name": "python3"
  },
  "language_info": {
   "codemirror_mode": {
    "name": "ipython",
    "version": 3
   },
   "file_extension": ".py",
   "mimetype": "text/x-python",
   "name": "python",
   "nbconvert_exporter": "python",
   "pygments_lexer": "ipython3",
   "version": "3.10.12"
  }
 },
 "nbformat": 4,
 "nbformat_minor": 4
}
